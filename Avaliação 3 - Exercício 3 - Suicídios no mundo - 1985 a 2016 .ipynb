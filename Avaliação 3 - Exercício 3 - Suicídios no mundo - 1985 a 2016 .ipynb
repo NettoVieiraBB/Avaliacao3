{
 "cells": [
  {
   "cell_type": "markdown",
   "metadata": {},
   "source": [
    "## Análise de suícidios no mundo entre os anos de 1985 e 2016"
   ]
  },
  {
   "cell_type": "markdown",
   "metadata": {},
   "source": [
    "#### Alunos: Daniela Carla Correia Maia - POS1370121, Francisco Vieira da Silva Neto - POS1370120, Jean Junio da Silva Lobo - POS10880208"
   ]
  },
  {
   "cell_type": "code",
   "execution_count": 295,
   "metadata": {},
   "outputs": [
    {
     "name": "stdout",
     "output_type": "stream",
     "text": [
      "sys.version_info(major=3, minor=7, micro=4, releaselevel='final', serial=0)\n"
     ]
    }
   ],
   "source": [
    "import sys\n",
    "print(sys.version_info)"
   ]
  },
  {
   "cell_type": "code",
   "execution_count": 296,
   "metadata": {},
   "outputs": [],
   "source": [
    "import pandas as pd\n",
    "import os "
   ]
  },
  {
   "cell_type": "code",
   "execution_count": 297,
   "metadata": {},
   "outputs": [
    {
     "data": {
      "text/plain": [
       "'C:\\\\Users\\\\baian\\\\Desktop\\\\MBA Business Intelligence\\\\10 - módulo Técnicas de Crawler Web Scrapyng com Text Mining e Visualização de Dados\\\\Avaliação 4\\\\suicídios'"
      ]
     },
     "execution_count": 297,
     "metadata": {},
     "output_type": "execute_result"
    }
   ],
   "source": [
    "pwd"
   ]
  },
  {
   "cell_type": "code",
   "execution_count": 298,
   "metadata": {},
   "outputs": [
    {
     "data": {
      "text/html": [
       "<div>\n",
       "<style scoped>\n",
       "    .dataframe tbody tr th:only-of-type {\n",
       "        vertical-align: middle;\n",
       "    }\n",
       "\n",
       "    .dataframe tbody tr th {\n",
       "        vertical-align: top;\n",
       "    }\n",
       "\n",
       "    .dataframe thead th {\n",
       "        text-align: right;\n",
       "    }\n",
       "</style>\n",
       "<table border=\"1\" class=\"dataframe\">\n",
       "  <thead>\n",
       "    <tr style=\"text-align: right;\">\n",
       "      <th></th>\n",
       "      <th>country</th>\n",
       "      <th>year</th>\n",
       "      <th>sex</th>\n",
       "      <th>age</th>\n",
       "      <th>suicides_no</th>\n",
       "      <th>population</th>\n",
       "      <th>suicides/100k pop</th>\n",
       "      <th>country-year</th>\n",
       "      <th>HDI for year</th>\n",
       "      <th>gdp_for_year ($)</th>\n",
       "      <th>gdp_per_capita ($)</th>\n",
       "      <th>generation</th>\n",
       "    </tr>\n",
       "  </thead>\n",
       "  <tbody>\n",
       "    <tr>\n",
       "      <td>0</td>\n",
       "      <td>Albania</td>\n",
       "      <td>1987</td>\n",
       "      <td>male</td>\n",
       "      <td>15-24 years</td>\n",
       "      <td>21</td>\n",
       "      <td>312900</td>\n",
       "      <td>6.71</td>\n",
       "      <td>Albania1987</td>\n",
       "      <td>NaN</td>\n",
       "      <td>2,156,624,900</td>\n",
       "      <td>796</td>\n",
       "      <td>Generation X</td>\n",
       "    </tr>\n",
       "    <tr>\n",
       "      <td>1</td>\n",
       "      <td>Albania</td>\n",
       "      <td>1987</td>\n",
       "      <td>male</td>\n",
       "      <td>35-54 years</td>\n",
       "      <td>16</td>\n",
       "      <td>308000</td>\n",
       "      <td>5.19</td>\n",
       "      <td>Albania1987</td>\n",
       "      <td>NaN</td>\n",
       "      <td>2,156,624,900</td>\n",
       "      <td>796</td>\n",
       "      <td>Silent</td>\n",
       "    </tr>\n",
       "    <tr>\n",
       "      <td>2</td>\n",
       "      <td>Albania</td>\n",
       "      <td>1987</td>\n",
       "      <td>female</td>\n",
       "      <td>15-24 years</td>\n",
       "      <td>14</td>\n",
       "      <td>289700</td>\n",
       "      <td>4.83</td>\n",
       "      <td>Albania1987</td>\n",
       "      <td>NaN</td>\n",
       "      <td>2,156,624,900</td>\n",
       "      <td>796</td>\n",
       "      <td>Generation X</td>\n",
       "    </tr>\n",
       "    <tr>\n",
       "      <td>3</td>\n",
       "      <td>Albania</td>\n",
       "      <td>1987</td>\n",
       "      <td>male</td>\n",
       "      <td>75+ years</td>\n",
       "      <td>1</td>\n",
       "      <td>21800</td>\n",
       "      <td>4.59</td>\n",
       "      <td>Albania1987</td>\n",
       "      <td>NaN</td>\n",
       "      <td>2,156,624,900</td>\n",
       "      <td>796</td>\n",
       "      <td>G.I. Generation</td>\n",
       "    </tr>\n",
       "    <tr>\n",
       "      <td>4</td>\n",
       "      <td>Albania</td>\n",
       "      <td>1987</td>\n",
       "      <td>male</td>\n",
       "      <td>25-34 years</td>\n",
       "      <td>9</td>\n",
       "      <td>274300</td>\n",
       "      <td>3.28</td>\n",
       "      <td>Albania1987</td>\n",
       "      <td>NaN</td>\n",
       "      <td>2,156,624,900</td>\n",
       "      <td>796</td>\n",
       "      <td>Boomers</td>\n",
       "    </tr>\n",
       "  </tbody>\n",
       "</table>\n",
       "</div>"
      ],
      "text/plain": [
       "   country  year     sex          age  suicides_no  population  \\\n",
       "0  Albania  1987    male  15-24 years           21      312900   \n",
       "1  Albania  1987    male  35-54 years           16      308000   \n",
       "2  Albania  1987  female  15-24 years           14      289700   \n",
       "3  Albania  1987    male    75+ years            1       21800   \n",
       "4  Albania  1987    male  25-34 years            9      274300   \n",
       "\n",
       "   suicides/100k pop country-year  HDI for year  gdp_for_year ($)   \\\n",
       "0               6.71  Albania1987           NaN      2,156,624,900   \n",
       "1               5.19  Albania1987           NaN      2,156,624,900   \n",
       "2               4.83  Albania1987           NaN      2,156,624,900   \n",
       "3               4.59  Albania1987           NaN      2,156,624,900   \n",
       "4               3.28  Albania1987           NaN      2,156,624,900   \n",
       "\n",
       "   gdp_per_capita ($)       generation  \n",
       "0                 796     Generation X  \n",
       "1                 796           Silent  \n",
       "2                 796     Generation X  \n",
       "3                 796  G.I. Generation  \n",
       "4                 796          Boomers  "
      ]
     },
     "execution_count": 298,
     "metadata": {},
     "output_type": "execute_result"
    }
   ],
   "source": [
    "suicidio = pd.read_csv(r'C:\\Users\\baian\\Desktop\\MBA Business Intelligence\\10 - módulo Técnicas de Crawler Web Scrapyng com Text Mining e Visualização de Dados\\Avaliação 4\\suicídios\\master.csv')\n",
    "suicidio.head()"
   ]
  },
  {
   "cell_type": "code",
   "execution_count": 299,
   "metadata": {},
   "outputs": [],
   "source": [
    "suicidio = suicidio.sort_values('year')"
   ]
  },
  {
   "cell_type": "code",
   "execution_count": 300,
   "metadata": {},
   "outputs": [
    {
     "data": {
      "text/html": [
       "<div>\n",
       "<style scoped>\n",
       "    .dataframe tbody tr th:only-of-type {\n",
       "        vertical-align: middle;\n",
       "    }\n",
       "\n",
       "    .dataframe tbody tr th {\n",
       "        vertical-align: top;\n",
       "    }\n",
       "\n",
       "    .dataframe thead th {\n",
       "        text-align: right;\n",
       "    }\n",
       "</style>\n",
       "<table border=\"1\" class=\"dataframe\">\n",
       "  <thead>\n",
       "    <tr style=\"text-align: right;\">\n",
       "      <th></th>\n",
       "      <th>country</th>\n",
       "      <th>year</th>\n",
       "      <th>sex</th>\n",
       "      <th>age</th>\n",
       "      <th>suicides_no</th>\n",
       "      <th>population</th>\n",
       "      <th>suicides/100k pop</th>\n",
       "      <th>country-year</th>\n",
       "      <th>HDI for year</th>\n",
       "      <th>gdp_for_year ($)</th>\n",
       "      <th>gdp_per_capita ($)</th>\n",
       "      <th>generation</th>\n",
       "    </tr>\n",
       "  </thead>\n",
       "  <tbody>\n",
       "    <tr>\n",
       "      <td>21632</td>\n",
       "      <td>Saint Vincent and Grenadines</td>\n",
       "      <td>1985</td>\n",
       "      <td>male</td>\n",
       "      <td>35-54 years</td>\n",
       "      <td>2</td>\n",
       "      <td>6100</td>\n",
       "      <td>32.79</td>\n",
       "      <td>Saint Vincent and Grenadines1985</td>\n",
       "      <td>NaN</td>\n",
       "      <td>145,641,704</td>\n",
       "      <td>1622</td>\n",
       "      <td>Silent</td>\n",
       "    </tr>\n",
       "    <tr>\n",
       "      <td>21637</td>\n",
       "      <td>Saint Vincent and Grenadines</td>\n",
       "      <td>1985</td>\n",
       "      <td>female</td>\n",
       "      <td>55-74 years</td>\n",
       "      <td>0</td>\n",
       "      <td>4100</td>\n",
       "      <td>0.00</td>\n",
       "      <td>Saint Vincent and Grenadines1985</td>\n",
       "      <td>NaN</td>\n",
       "      <td>145,641,704</td>\n",
       "      <td>1622</td>\n",
       "      <td>G.I. Generation</td>\n",
       "    </tr>\n",
       "    <tr>\n",
       "      <td>21638</td>\n",
       "      <td>Saint Vincent and Grenadines</td>\n",
       "      <td>1985</td>\n",
       "      <td>female</td>\n",
       "      <td>75+ years</td>\n",
       "      <td>0</td>\n",
       "      <td>1000</td>\n",
       "      <td>0.00</td>\n",
       "      <td>Saint Vincent and Grenadines1985</td>\n",
       "      <td>NaN</td>\n",
       "      <td>145,641,704</td>\n",
       "      <td>1622</td>\n",
       "      <td>G.I. Generation</td>\n",
       "    </tr>\n",
       "    <tr>\n",
       "      <td>21639</td>\n",
       "      <td>Saint Vincent and Grenadines</td>\n",
       "      <td>1985</td>\n",
       "      <td>male</td>\n",
       "      <td>15-24 years</td>\n",
       "      <td>0</td>\n",
       "      <td>12100</td>\n",
       "      <td>0.00</td>\n",
       "      <td>Saint Vincent and Grenadines1985</td>\n",
       "      <td>NaN</td>\n",
       "      <td>145,641,704</td>\n",
       "      <td>1622</td>\n",
       "      <td>Generation X</td>\n",
       "    </tr>\n",
       "    <tr>\n",
       "      <td>21640</td>\n",
       "      <td>Saint Vincent and Grenadines</td>\n",
       "      <td>1985</td>\n",
       "      <td>male</td>\n",
       "      <td>25-34 years</td>\n",
       "      <td>0</td>\n",
       "      <td>9300</td>\n",
       "      <td>0.00</td>\n",
       "      <td>Saint Vincent and Grenadines1985</td>\n",
       "      <td>NaN</td>\n",
       "      <td>145,641,704</td>\n",
       "      <td>1622</td>\n",
       "      <td>Boomers</td>\n",
       "    </tr>\n",
       "    <tr>\n",
       "      <td>...</td>\n",
       "      <td>...</td>\n",
       "      <td>...</td>\n",
       "      <td>...</td>\n",
       "      <td>...</td>\n",
       "      <td>...</td>\n",
       "      <td>...</td>\n",
       "      <td>...</td>\n",
       "      <td>...</td>\n",
       "      <td>...</td>\n",
       "      <td>...</td>\n",
       "      <td>...</td>\n",
       "      <td>...</td>\n",
       "    </tr>\n",
       "    <tr>\n",
       "      <td>6622</td>\n",
       "      <td>Croatia</td>\n",
       "      <td>2016</td>\n",
       "      <td>male</td>\n",
       "      <td>35-54 years</td>\n",
       "      <td>146</td>\n",
       "      <td>571003</td>\n",
       "      <td>25.57</td>\n",
       "      <td>Croatia2016</td>\n",
       "      <td>NaN</td>\n",
       "      <td>51,338,524,831</td>\n",
       "      <td>12905</td>\n",
       "      <td>Generation X</td>\n",
       "    </tr>\n",
       "    <tr>\n",
       "      <td>17447</td>\n",
       "      <td>Netherlands</td>\n",
       "      <td>2016</td>\n",
       "      <td>female</td>\n",
       "      <td>15-24 years</td>\n",
       "      <td>35</td>\n",
       "      <td>1025443</td>\n",
       "      <td>3.41</td>\n",
       "      <td>Netherlands2016</td>\n",
       "      <td>NaN</td>\n",
       "      <td>777,227,541,581</td>\n",
       "      <td>48108</td>\n",
       "      <td>Millenials</td>\n",
       "    </tr>\n",
       "    <tr>\n",
       "      <td>17446</td>\n",
       "      <td>Netherlands</td>\n",
       "      <td>2016</td>\n",
       "      <td>female</td>\n",
       "      <td>25-34 years</td>\n",
       "      <td>65</td>\n",
       "      <td>1043372</td>\n",
       "      <td>6.23</td>\n",
       "      <td>Netherlands2016</td>\n",
       "      <td>NaN</td>\n",
       "      <td>777,227,541,581</td>\n",
       "      <td>48108</td>\n",
       "      <td>Millenials</td>\n",
       "    </tr>\n",
       "    <tr>\n",
       "      <td>7415</td>\n",
       "      <td>Czech Republic</td>\n",
       "      <td>2016</td>\n",
       "      <td>female</td>\n",
       "      <td>75+ years</td>\n",
       "      <td>25</td>\n",
       "      <td>480884</td>\n",
       "      <td>5.20</td>\n",
       "      <td>Czech Republic2016</td>\n",
       "      <td>NaN</td>\n",
       "      <td>195,305,084,919</td>\n",
       "      <td>19505</td>\n",
       "      <td>Silent</td>\n",
       "    </tr>\n",
       "    <tr>\n",
       "      <td>20927</td>\n",
       "      <td>Romania</td>\n",
       "      <td>2016</td>\n",
       "      <td>male</td>\n",
       "      <td>75+ years</td>\n",
       "      <td>171</td>\n",
       "      <td>579838</td>\n",
       "      <td>29.49</td>\n",
       "      <td>Romania2016</td>\n",
       "      <td>NaN</td>\n",
       "      <td>187,805,922,349</td>\n",
       "      <td>10020</td>\n",
       "      <td>Silent</td>\n",
       "    </tr>\n",
       "  </tbody>\n",
       "</table>\n",
       "<p>27820 rows × 12 columns</p>\n",
       "</div>"
      ],
      "text/plain": [
       "                            country  year     sex          age  suicides_no  \\\n",
       "21632  Saint Vincent and Grenadines  1985    male  35-54 years            2   \n",
       "21637  Saint Vincent and Grenadines  1985  female  55-74 years            0   \n",
       "21638  Saint Vincent and Grenadines  1985  female    75+ years            0   \n",
       "21639  Saint Vincent and Grenadines  1985    male  15-24 years            0   \n",
       "21640  Saint Vincent and Grenadines  1985    male  25-34 years            0   \n",
       "...                             ...   ...     ...          ...          ...   \n",
       "6622                        Croatia  2016    male  35-54 years          146   \n",
       "17447                   Netherlands  2016  female  15-24 years           35   \n",
       "17446                   Netherlands  2016  female  25-34 years           65   \n",
       "7415                 Czech Republic  2016  female    75+ years           25   \n",
       "20927                       Romania  2016    male    75+ years          171   \n",
       "\n",
       "       population  suicides/100k pop                      country-year  \\\n",
       "21632        6100              32.79  Saint Vincent and Grenadines1985   \n",
       "21637        4100               0.00  Saint Vincent and Grenadines1985   \n",
       "21638        1000               0.00  Saint Vincent and Grenadines1985   \n",
       "21639       12100               0.00  Saint Vincent and Grenadines1985   \n",
       "21640        9300               0.00  Saint Vincent and Grenadines1985   \n",
       "...           ...                ...                               ...   \n",
       "6622       571003              25.57                       Croatia2016   \n",
       "17447     1025443               3.41                   Netherlands2016   \n",
       "17446     1043372               6.23                   Netherlands2016   \n",
       "7415       480884               5.20                Czech Republic2016   \n",
       "20927      579838              29.49                       Romania2016   \n",
       "\n",
       "       HDI for year  gdp_for_year ($)   gdp_per_capita ($)       generation  \n",
       "21632           NaN        145,641,704                1622           Silent  \n",
       "21637           NaN        145,641,704                1622  G.I. Generation  \n",
       "21638           NaN        145,641,704                1622  G.I. Generation  \n",
       "21639           NaN        145,641,704                1622     Generation X  \n",
       "21640           NaN        145,641,704                1622          Boomers  \n",
       "...             ...                ...                 ...              ...  \n",
       "6622            NaN     51,338,524,831               12905     Generation X  \n",
       "17447           NaN    777,227,541,581               48108       Millenials  \n",
       "17446           NaN    777,227,541,581               48108       Millenials  \n",
       "7415            NaN    195,305,084,919               19505           Silent  \n",
       "20927           NaN    187,805,922,349               10020           Silent  \n",
       "\n",
       "[27820 rows x 12 columns]"
      ]
     },
     "execution_count": 300,
     "metadata": {},
     "output_type": "execute_result"
    }
   ],
   "source": [
    "suicidio"
   ]
  },
  {
   "cell_type": "markdown",
   "metadata": {},
   "source": [
    "## Soma de suicídios por país em todos os anos em ordem decrescente"
   ]
  },
  {
   "cell_type": "code",
   "execution_count": 301,
   "metadata": {},
   "outputs": [
    {
     "data": {
      "text/plain": [
       "country\n",
       "Russian Federation       1209742\n",
       "United States            1034013\n",
       "Japan                     806902\n",
       "France                    329127\n",
       "Ukraine                   319950\n",
       "                          ...   \n",
       "Maldives                      20\n",
       "Antigua and Barbuda           11\n",
       "San Marino                     4\n",
       "Saint Kitts and Nevis          0\n",
       "Dominica                       0\n",
       "Name: suicides_no, Length: 101, dtype: int64"
      ]
     },
     "execution_count": 301,
     "metadata": {},
     "output_type": "execute_result"
    }
   ],
   "source": [
    "suicidio.groupby('country')['suicides_no'].sum().sort_values(ascending=False)"
   ]
  },
  {
   "cell_type": "markdown",
   "metadata": {},
   "source": [
    "## Suicídios por geração em ordem decrescente"
   ]
  },
  {
   "cell_type": "code",
   "execution_count": 302,
   "metadata": {},
   "outputs": [
    {
     "data": {
      "text/plain": [
       "generation\n",
       "Boomers            2284498\n",
       "Silent             1781744\n",
       "Generation X       1532804\n",
       "Millenials          623459\n",
       "G.I. Generation     510009\n",
       "Generation Z         15906\n",
       "Name: suicides_no, dtype: int64"
      ]
     },
     "execution_count": 302,
     "metadata": {},
     "output_type": "execute_result"
    }
   ],
   "source": [
    "suicidio.groupby('generation')['suicides_no'].sum().sort_values(ascending=False)"
   ]
  },
  {
   "cell_type": "markdown",
   "metadata": {},
   "source": [
    "## Suicídios por faixa etária nos últimos 10 anos"
   ]
  },
  {
   "cell_type": "code",
   "execution_count": 304,
   "metadata": {
    "scrolled": true
   },
   "outputs": [
    {
     "data": {
      "text/plain": [
       "age\n",
       "35-54 years    491614\n",
       "55-74 years    351059\n",
       "25-34 years    217515\n",
       "15-24 years    153214\n",
       "75+ years      146610\n",
       "5-14 years      10760\n",
       "Name: suicides_no, dtype: int64"
      ]
     },
     "execution_count": 304,
     "metadata": {},
     "output_type": "execute_result"
    }
   ],
   "source": [
    "suicidio[suicidio.year >= 2010].groupby('age')['suicides_no'].sum().sort_values(ascending=False)"
   ]
  },
  {
   "cell_type": "markdown",
   "metadata": {},
   "source": [
    "### Suicídios por ano e faixa etária entre os anos de 2006 e 2016"
   ]
  },
  {
   "cell_type": "code",
   "execution_count": 305,
   "metadata": {
    "scrolled": true
   },
   "outputs": [
    {
     "data": {
      "text/plain": [
       "year  age        \n",
       "2006  15-24 years    27937\n",
       "      25-34 years    37221\n",
       "      35-54 years    87032\n",
       "      5-14 years      1755\n",
       "      55-74 years    56613\n",
       "                     ...  \n",
       "2016  15-24 years     1195\n",
       "      25-34 years     2070\n",
       "      35-54 years     5766\n",
       "      55-74 years     4715\n",
       "      75+ years       1857\n",
       "Name: suicides_no, Length: 65, dtype: int64"
      ]
     },
     "execution_count": 305,
     "metadata": {},
     "output_type": "execute_result"
    }
   ],
   "source": [
    "suicidio[suicidio.year >= 2006].sort_values(['year', 'age']).groupby(['year', 'age'])['suicides_no'].sum()"
   ]
  },
  {
   "cell_type": "markdown",
   "metadata": {},
   "source": [
    "### Quantidade de suicídios nos 10 primeiros anos da pesquisa, por grupamento de idade"
   ]
  },
  {
   "cell_type": "code",
   "execution_count": 306,
   "metadata": {},
   "outputs": [
    {
     "data": {
      "text/plain": [
       "year  age        \n",
       "1985  15-24 years    17870\n",
       "      25-34 years    20771\n",
       "      35-54 years    35748\n",
       "      5-14 years       984\n",
       "      55-74 years    28736\n",
       "                     ...  \n",
       "1995  25-34 years    42371\n",
       "      35-54 years    89752\n",
       "      5-14 years      1921\n",
       "      55-74 years    59138\n",
       "      75+ years      20901\n",
       "Name: suicides_no, Length: 66, dtype: int64"
      ]
     },
     "execution_count": 306,
     "metadata": {},
     "output_type": "execute_result"
    }
   ],
   "source": [
    "suicidio[suicidio.year <= 1995].sort_values(['year', 'age']).groupby(['year', 'age'])['suicides_no'].sum()"
   ]
  },
  {
   "cell_type": "markdown",
   "metadata": {},
   "source": [
    "### Análise de suicídios na primeira década do estudo"
   ]
  },
  {
   "cell_type": "code",
   "execution_count": 307,
   "metadata": {},
   "outputs": [
    {
     "data": {
      "text/plain": [
       "sex\n",
       "female     484387\n",
       "male      1460484\n",
       "Name: suicides_no, dtype: int64"
      ]
     },
     "execution_count": 307,
     "metadata": {},
     "output_type": "execute_result"
    }
   ],
   "source": [
    "suicidio[suicidio.year <= 1995].sort_values(['sex']).groupby(['sex'])['suicides_no'].sum()"
   ]
  },
  {
   "cell_type": "code",
   "execution_count": 308,
   "metadata": {},
   "outputs": [
    {
     "data": {
      "text/plain": [
       "sex\n",
       "male      5188910\n",
       "female    1559510\n",
       "Name: suicides_no, dtype: int64"
      ]
     },
     "execution_count": 308,
     "metadata": {},
     "output_type": "execute_result"
    }
   ],
   "source": [
    "suicidio.groupby('sex')['suicides_no'].sum().sort_values(ascending=False)"
   ]
  },
  {
   "cell_type": "markdown",
   "metadata": {},
   "source": [
    "## Média da taxa de suicídios por 100k habitantes em todos os anos"
   ]
  },
  {
   "cell_type": "code",
   "execution_count": 309,
   "metadata": {},
   "outputs": [
    {
     "data": {
      "text/plain": [
       "country\n",
       "Lithuania                40.415573\n",
       "Sri Lanka                35.295152\n",
       "Russian Federation       34.892377\n",
       "Hungary                  32.761516\n",
       "Belarus                  31.075913\n",
       "                           ...    \n",
       "Oman                      0.736111\n",
       "Antigua and Barbuda       0.552901\n",
       "Jamaica                   0.521765\n",
       "Dominica                  0.000000\n",
       "Saint Kitts and Nevis     0.000000\n",
       "Name: suicides/100k pop, Length: 101, dtype: float64"
      ]
     },
     "execution_count": 309,
     "metadata": {},
     "output_type": "execute_result"
    }
   ],
   "source": [
    "suicidio.groupby('country')['suicides/100k pop'].mean().sort_values(ascending=False)"
   ]
  },
  {
   "cell_type": "code",
   "execution_count": 310,
   "metadata": {},
   "outputs": [],
   "source": [
    "%matplotlib inline\n",
    "import matplotlib.pyplot as plt\n",
    "plt.style.use('seaborn-whitegrid')\n",
    "import numpy as np"
   ]
  },
  {
   "cell_type": "code",
   "execution_count": 311,
   "metadata": {},
   "outputs": [],
   "source": [
    "import numpy as np\n",
    "import matplotlib.pyplot as plt\n",
    "import seaborn as sns\n",
    "from matplotlib import pyplot\n",
    "%matplotlib inline"
   ]
  },
  {
   "cell_type": "code",
   "execution_count": 367,
   "metadata": {},
   "outputs": [
    {
     "data": {
      "text/plain": [
       "<matplotlib.axes._subplots.AxesSubplot at 0x1d61e7f7a08>"
      ]
     },
     "execution_count": 367,
     "metadata": {},
     "output_type": "execute_result"
    },
    {
     "data": {
      "image/png": "[encoded data removed]",
      "text/plain": [
       "<Figure size 1440x720 with 1 Axes>"
      ]
     },
     "metadata": {
      "needs_background": "light"
     },
     "output_type": "display_data"
    }
   ],
   "source": [
    "\n",
    "suicidio.groupby('country')['suicides_no'].sum().sort_values(ascending=False).plot(figsize=(20, 10), title='Soma de suicídios por país em todos os anos em ordem decrescente', grid=True, color = \"red\", )\n",
    "\n"
   ]
  },
  {
   "cell_type": "code",
   "execution_count": 322,
   "metadata": {},
   "outputs": [
    {
     "data": {
      "text/plain": [
       "<matplotlib.legend.Legend at 0x1d619f47088>"
      ]
     },
     "execution_count": 322,
     "metadata": {},
     "output_type": "execute_result"
    },
    {
     "data": {
      "image/png": "[encoded data removed]",
      "text/plain": [
       "<Figure size 1080x288 with 1 Axes>"
      ]
     },
     "metadata": {
      "needs_background": "light"
     },
     "output_type": "display_data"
    }
   ],
   "source": [
    "suicidio[suicidio.year <= 1995].sort_values(['sex']).groupby(['sex'])['suicides_no'].sum().plot(figsize=(15, 4), title='Número de suicídios na primeira década da pesquisa, por genero',grid=True)\n",
    "plt.legend()"
   ]
  },
  {
   "cell_type": "code",
   "execution_count": 378,
   "metadata": {},
   "outputs": [
    {
     "data": {
      "text/plain": [
       "<matplotlib.legend.Legend at 0x1d61cd60408>"
      ]
     },
     "execution_count": 378,
     "metadata": {},
     "output_type": "execute_result"
    },
    {
     "data": {
      "image/png": "[encoded data removed]",
      "text/plain": [
       "<Figure size 432x288 with 1 Axes>"
      ]
     },
     "metadata": {
      "needs_background": "light"
     },
     "output_type": "display_data"
    }
   ],
   "source": [
    "import matplotlib.pyplot as plt\n",
    "faixa_etária = ['5-14 years','15-24 years','25-34 years','35-54 years','55-74 years','75+ years']\n",
    "quantidade_de_suicídios = [10760, 153214, 217515, 491614, 351059, 146610]\n",
    "\n",
    "plt.bar(faixa_etária, quantidade_de_suicídios, color=['yellowgreen', 'lightgreen', 'blue', 'gold', 'red', 'lightsalmon'])\n",
    "plt.xticks(faixa_etária)\n",
    "plt.xlabel('Faixa Etária', weight=\"bold\")\n",
    "plt.ylabel('Quantidade de suicídios',weight=\"bold\")\n",
    "plt.title('Número de suicídios por faixa etária entre 1985 e 2016',size=20, weight=\"bold\")\n",
    "color=['yellowgreen', 'lightgreen', 'blue', 'gold', 'red', 'lightsalmon']\n",
    "plt.legend([faixa_etária],\n",
    "           title=\"Faixa Etária\",\n",
    "            loc=\"best\",\n",
    "            bbox_to_anchor=(2,0,0.8,1))\n",
    "            \n",
    "# LEGENDA NÃO ESTÁ APARECENDO TODA..."
   ]
  },
  {
   "cell_type": "code",
   "execution_count": 294,
   "metadata": {},
   "outputs": [
    {
     "data": {
      "image/png": "[encoded data removed]",
      "text/plain": [
       "<Figure size 576x576 with 1 Axes>"
      ]
     },
     "metadata": {},
     "output_type": "display_data"
    }
   ],
   "source": [
    "import matplotlib.pyplot as plt\n",
    "geração = ['Boomers', 'Silent', 'Generation X', 'Millenials', 'G.I. Generation', 'Generation Z']\n",
    "numero_suicidios = [2284498 ,1781744, 1532804,623459, 510009, 15906]\n",
    "\n",
    "plt.axis = plt.subplots(figsize=(8,8))\n",
    "sizes = numero_suicidios\n",
    "labels = list(topic)\n",
    "colors = ['yellowgreen', 'lightgreen', 'darkgreen', 'gold', 'red', 'lightsalmon']\n",
    "plt.pie(sizes, explode=None, labels=labels, colors=colors, autopct='%1.1f%%', shadow=True, startangle=1)  \n",
    "plt.legend(title=\"Geração\",\n",
    "           loc=\"right\",\n",
    "           bbox_to_anchor=(1,0,0.7,1))\n",
    "plt.title(\"% de suicídios por geração\",size=20, weight=\"bold\")\n",
    "plt.show()"
   ]
  }
 ],
 "metadata": {
  "kernelspec": {
   "display_name": "Python 3",
   "language": "python",
   "name": "python3"
  },
  "language_info": {
   "codemirror_mode": {
    "name": "ipython",
    "version": 3
   },
   "file_extension": ".py",
   "mimetype": "text/x-python",
   "name": "python",
   "nbconvert_exporter": "python",
   "pygments_lexer": "ipython3",
   "version": "3.7.4"
  }
 },
 "nbformat": 4,
 "nbformat_minor": 2
}
